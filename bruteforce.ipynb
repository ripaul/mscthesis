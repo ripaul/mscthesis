{
 "cells": [
  {
   "cell_type": "code",
   "execution_count": 1,
   "id": "ce2225d9-edb1-4a4a-a4df-dac02a4b3503",
   "metadata": {},
   "outputs": [],
   "source": [
    "import numpy as np\n",
    "\n",
    "import time\n",
    "\n",
    "import warnings\n",
    "from multiprocessing import Pool\n",
    "from concurrent.futures import ProcessPoolExecutor as NestablePool\n",
    "\n",
    "import dill\n",
    "from tqdm.notebook import tqdm\n",
    "\n",
    "from copy import deepcopy"
   ]
  },
  {
   "cell_type": "code",
   "execution_count": 2,
   "id": "5149c4a4-ebc8-48ed-822a-43baf2f9058d",
   "metadata": {},
   "outputs": [
    {
     "name": "stderr",
     "output_type": "stream",
     "text": [
      "/usr/local/lib/python3.8/dist-packages/pkg_resources/__init__.py:116: PkgResourcesDeprecationWarning: 0.23ubuntu1 is an invalid version and will not be supported in a future release\n",
      "  warnings.warn(\n"
     ]
    },
    {
     "name": "stdout",
     "output_type": "stream",
     "text": [
      "Scaling...\n",
      " A: min|aij| =  1.000e+00  max|aij| =  1.000e+00  ratio =  1.000e+00\n",
      "Problem data seem to be well scaled\n"
     ]
    }
   ],
   "source": [
    "from experimental_setup import *"
   ]
  },
  {
   "cell_type": "code",
   "execution_count": 3,
   "id": "16c98bd1-503c-4cbe-9ef7-3e3f344b72ff",
   "metadata": {},
   "outputs": [
    {
     "ename": "NameError",
     "evalue": "name 'abc' is not defined",
     "output_type": "error",
     "traceback": [
      "\u001b[0;31m---------------------------------------------------------------------------\u001b[0m",
      "\u001b[0;31mNameError\u001b[0m                                 Traceback (most recent call last)",
      "Input \u001b[0;32mIn [3]\u001b[0m, in \u001b[0;36m<module>\u001b[0;34m\u001b[0m\n\u001b[0;32m----> 1\u001b[0m \u001b[38;5;28mprint\u001b[39m(\u001b[43mabc\u001b[49m)\n",
      "\u001b[0;31mNameError\u001b[0m: name 'abc' is not defined"
     ]
    }
   ],
   "source": [
    "print(abc)"
   ]
  },
  {
   "cell_type": "markdown",
   "id": "b67e458d-fdd0-4c5c-ad35-606e9ef95ae1",
   "metadata": {
    "tags": []
   },
   "source": [
    "# Uniform sampling"
   ]
  },
  {
   "cell_type": "code",
   "execution_count": null,
   "id": "f52e9373-5e0d-4f97-9a41-437ff988428e",
   "metadata": {},
   "outputs": [],
   "source": [
    "args, args_idx = get_uniform_args()\n",
    "\n",
    "with warnings.catch_warnings():\n",
    "    warnings.simplefilter('ignore')\n",
    "    parallel = True\n",
    "    if parallel:\n",
    "        with NestablePool(int(n_parallel/n_chains)) as p:\n",
    "            uniform_arr = p.map(uniform_sampling_single_arg, args)\n",
    "    else:\n",
    "        uniform_arr = []\n",
    "        for arg in args:\n",
    "            uniform_arr.append(uniform_sampling(*arg))\n",
    "\n",
    "prior = {args_idx[i]: _states for i, _states in enumerate(uniform_arr)}\n",
    "\n",
    "with open(\"data/prior\", \"wb\") as fhandle:\n",
    "    dill.dump(prior, fhandle)"
   ]
  },
  {
   "cell_type": "markdown",
   "id": "5b8abf91-4ae0-4ea6-abf9-55e3ce0f3964",
   "metadata": {
    "tags": []
   },
   "source": [
    "# Posterior sampling"
   ]
  },
  {
   "cell_type": "code",
   "execution_count": null,
   "id": "5301096a-351a-453a-83ca-a0acd4cea14d",
   "metadata": {},
   "outputs": [],
   "source": [
    "with open(\"data/prior\", \"rb\") as fhandle:\n",
    "    prior = dill.load(fhandle)\n",
    "    \n",
    "args, args_idx = get_posterior_args()\n",
    "\n",
    "with warnings.catch_warnings():\n",
    "    warnings.simplefilter('ignore')\n",
    "    parallel = True\n",
    "    if parallel:\n",
    "        with NestablePool(int(n_parallel/n_chains)) as p:\n",
    "            posterior_arr = p.map(posterior_sampling_single_arg, args)\n",
    "    else:\n",
    "        posterior_arr = []\n",
    "        for arg in args:\n",
    "            posterior_arr.append(posterior_sampling(*arg))\n",
    "\n",
    "posterior_states = {args_idx[i]: _states for i, _states in enumerate(posterior_arr)}\n",
    "\n",
    "with open(\"data/posterior\", \"wb\") as fhandle:\n",
    "    dill.dump(posterior_states, fhandle)"
   ]
  },
  {
   "cell_type": "markdown",
   "id": "30a09cef-f5e4-4425-904e-860a92c88676",
   "metadata": {},
   "source": [
    "# Bruteforce sampling"
   ]
  },
  {
   "cell_type": "code",
   "execution_count": null,
   "id": "85cea93b-74c3-41a8-9c82-e10877ac68e1",
   "metadata": {
    "tags": []
   },
   "outputs": [],
   "source": [
    "with open(\"data/prior\", \"rb\") as fhandle:\n",
    "    prior = dill.load(fhandle)\n",
    "    \n",
    "args, args_idx = get_bruteforce_args(prior)\n",
    "print(len(args))"
   ]
  },
  {
   "cell_type": "code",
   "execution_count": null,
   "id": "f3cec14b-384d-4826-9dc8-c6167a8825a0",
   "metadata": {
    "tags": []
   },
   "outputs": [],
   "source": [
    "with warnings.catch_warnings():\n",
    "    warnings.simplefilter('ignore')\n",
    "    parallel = True\n",
    "    if parallel:\n",
    "        with Pool(n_parallel) as p:\n",
    "            bruteforce_arr = p.starmap(bruteforce_sampling, args)\n",
    "    else:\n",
    "        bruteforce_arr = []\n",
    "        for arg in args:\n",
    "            bruteforce_arr.append(bruteforce_sampling(*arg))\n",
    "\n",
    "    with open(\"data/bruteforce_raw\", \"wb\") as fhandle:\n",
    "        dill.dump(bruteforce_arr, fhandle)\n",
    "    #    !git add data/* && git commit -m \"bruteforce run\""
   ]
  },
  {
   "cell_type": "markdown",
   "id": "918fa1ea-dbc8-4602-aaa6-b263b05059ae",
   "metadata": {},
   "source": [
    "## Data aggregation"
   ]
  },
  {
   "cell_type": "code",
   "execution_count": null,
   "id": "db0a8688-86b0-4777-8028-17f663a18573",
   "metadata": {},
   "outputs": [],
   "source": [
    "with open(\"data/bruteforce_raw\", \"rb\") as fhandle:\n",
    "    data_arr = dill.load(fhandle)\n",
    "    \n",
    "print(len(data_arr))\n",
    "    \n",
    "results = {(problem, proposal): None for problem in problems for proposal in proposals}\n",
    "\n",
    "for i, (problem, proposal, j, seed) in enumerate(args_idx):\n",
    "    shape = (len(targets), len(stepsize_grids[(problem, proposal)]), n_seeds, n_chains)\n",
    "    if results[(problem, proposal)] is None:\n",
    "        results[(problem, proposal)] = np.zeros(shape)\n",
    "\n",
    "    results[(problem, proposal)][:, j, seed] = np.array(data_arr[i])\n",
    "        \n",
    "with open(\"data/bruteforce_data\", \"wb\") as fhandle:\n",
    "    dill.dump(results, fhandle)\n",
    "#    !git add data/*_time_gps && git commit -m \"added time-per-sample posterior gps\""
   ]
  },
  {
   "cell_type": "code",
   "execution_count": null,
   "id": "b1880ae5-0a92-48dc-b1c3-14ba5e92b2c3",
   "metadata": {},
   "outputs": [],
   "source": [
    "def kernel(x, y, l = 1, sigma = 1):\n",
    "    sqdist = np.sum(x**2, 1).reshape(-1, 1) + np.sum(y**2, 1) - 2 * np.dot(x, y.T)\n",
    "    return sigma**2 * np.exp(-0.5 / l**2 * sqdist)\n",
    "  \n",
    "def posterior(x, x_obs, y_obs, l = 1, sigma_f = 1, sigma_y = 0, prior_mu = 0):\n",
    "    K = kernel(x_obs, x_obs, l, sigma_f) + sigma_y * np.eye(len(x_obs))\n",
    "    K_s = kernel(x_obs, x, l, sigma_f)\n",
    "    K_ss = kernel(x, x, l, sigma_f)\n",
    "    K_inv = np.linalg.inv(K)\n",
    "\n",
    "    mu = prior_mu + K_s.T.dot(K_inv).dot(y_obs - prior_mu)\n",
    "    cov = K_ss - K_s.T.dot(K_inv).dot(K_s) #+ sigma_y * np.eye(len(x))\n",
    "\n",
    "    return mu, cov\n",
    "\n",
    "gps = dict()\n",
    "\n",
    "N = 200\n",
    "\n",
    "shape = (N, 2)\n",
    "gps = {(problem, proposal): np.zeros(shape) for problem in problems for proposal in proposals}\n",
    "        \n",
    "for i, problem in enumerate(problems):\n",
    "    for j, proposal in enumerate(proposals):\n",
    "        target = \"t\"\n",
    "        target_idx = list(targets).index(target)\n",
    "        \n",
    "        stepsize_grid = stepsize_grids[(problem, proposal)]\n",
    "\n",
    "        y = results[(problem, proposal)][target_idx].reshape(len(stepsize_grid), -1)\n",
    "        y_mean = np.mean(y, axis=-1) \n",
    "\n",
    "        y /= np.max(y_mean)\n",
    "        y_mean /= np.max(y_mean)\n",
    "\n",
    "        X, Y = np.array([np.log10(stepsize_grid)]*y.shape[-1]).T.flatten().reshape(-1, 1), y.flatten().reshape(-1, 1)\n",
    "\n",
    "        _x = np.linspace(-5, 3, N).reshape(-1, 1)\n",
    "        mu, cov = posterior(_x, X, Y, sigma_y=.1, l=2)\n",
    "        gps[(problem, proposal)][:, 0] = mu.flatten()\n",
    "        gps[(problem, proposal)][:, 1] = np.sqrt(np.diag(cov)).flatten()\n",
    "\n",
    "with open(\"data/time_gps\", \"wb\") as fhandle:\n",
    "    dill.dump(gps, fhandle)"
   ]
  },
  {
   "cell_type": "markdown",
   "id": "606f7a33-b302-48ef-b604-480ccbc2cde4",
   "metadata": {},
   "source": [
    "# Tuning"
   ]
  },
  {
   "cell_type": "code",
   "execution_count": null,
   "id": "435272d5-31bb-4572-aa7f-4485547bfdcc",
   "metadata": {},
   "outputs": [],
   "source": [
    "args, args_idx = get_tuning_args()\n",
    "print(len(args))\n",
    "\n",
    "with warnings.catch_warnings():\n",
    "    warnings.simplefilter('ignore')\n",
    "    parallel = True\n",
    "    if parallel:\n",
    "        with Pool(n_parallel) as p:\n",
    "            tuning_arr = p.starmap(tuning, args)\n",
    "    else:\n",
    "        tuning_arr = []\n",
    "        for arg in args:\n",
    "            tuning_arr.append(tuning(*arg))\n",
    "     \n",
    "    with open(\"data/tuning_raw\", \"wb\") as fhandle:\n",
    "        dill.dump(tuning_arr, fhandle)\n",
    "    #    !git add data/* && git commit -m \"bruteforce run\"       "
   ]
  },
  {
   "cell_type": "code",
   "execution_count": null,
   "id": "2dded476-97ac-4761-a5fe-16ddb9add42a",
   "metadata": {
    "tags": []
   },
   "outputs": [],
   "source": [
    "with open(\"data/tuning_raw\", \"rb\") as fhandle:\n",
    "    tuning_arr = dill.load(fhandle)\n",
    "    \n",
    "_data = {args_idx[i]: (stepsize, data) for i, (time, stepsize, convergence, data) in enumerate(tuning_arr)}\n",
    "\n",
    "results = {}\n",
    "gridsize = ts_params[\"grid_size\"]\n",
    "\n",
    "for problem in problems:\n",
    "    for proposal in proposals:\n",
    "        #results[(problem, proposal)] = {}\n",
    "        _results = {}\n",
    "\n",
    "        for target in tuning_targets:\n",
    "            _results[target] = ([], [], [], [])\n",
    "            for seed in range(n_seeds):\n",
    "                stepsize, data = _data[(problem, proposal, target, seed)]\n",
    "                _results[target][0].append(stepsize)\n",
    "                _results[target][1].append(data[:,1])\n",
    "                _results[target][2].append(data[:,2])\n",
    "                idx = np.where(np.sum(data[:,3:], axis=1) != 0)\n",
    "                _results[target][3].append(data[idx,3:][0])\n",
    "                \n",
    "        results[(problem, proposal)] = _results\n",
    "    \n",
    "with open(\"data/tuning_data\", \"wb\") as fhandle:\n",
    "    dill.dump(results, fhandle)"
   ]
  },
  {
   "cell_type": "markdown",
   "id": "b4d2f9bd-d499-4586-8d36-daa31a39112c",
   "metadata": {},
   "source": [
    "# Pure Tuning"
   ]
  },
  {
   "cell_type": "code",
   "execution_count": null,
   "id": "83c0df3a-9859-4b82-b9cd-3480a5f89337",
   "metadata": {
    "tags": []
   },
   "outputs": [],
   "source": [
    "args, args_idx = get_pure_tuning_args()\n",
    "print(len(args))\n",
    "\n",
    "warnings.simplefilter('ignore')\n",
    "parallel = True\n",
    "if parallel:\n",
    "    with Pool(n_parallel) as p:\n",
    "        tuning_arr = p.starmap(tuning, args)\n",
    "else:\n",
    "    tuning_arr = []\n",
    "    for arg in args:\n",
    "        tuning_arr.append(tuning(*arg))\n",
    "\n",
    "with open(\"data/pure_tuning_raw\", \"wb\") as fhandle:\n",
    "    dill.dump(tuning_arr, fhandle)\n",
    "#    !git add data/* && git commit -m \"bruteforce run\"       "
   ]
  },
  {
   "cell_type": "code",
   "execution_count": null,
   "id": "921b2650-8d7f-4eef-a4a1-6453b76ad1df",
   "metadata": {
    "tags": []
   },
   "outputs": [],
   "source": [
    "with open(\"data/pure_tuning_raw\", \"rb\") as fhandle:\n",
    "    tuning_arr = dill.load(fhandle)\n",
    "    \n",
    "#for abc in tuning_arr:\n",
    "#    print(abc)\n",
    "    \n",
    "\n",
    "_data = {args_idx[i]: (stepsize, data) for i, (time, stepsize, convergence, data) in enumerate(tuning_arr)}\n",
    "#_data = {args_idx[i]: (stepsize, data) for i, (time, stepsize, data) in enumerate(tuning_arr)}\n",
    "\n",
    "results = {}\n",
    "gridsize = ts_params[\"grid_size\"]\n",
    "\n",
    "for problem in tuning_problems:\n",
    "    for proposal in proposals:\n",
    "        if proposal == 'CSmMALA': continue\n",
    "        #results[(problem, proposal)] = {}\n",
    "        _results = {}\n",
    "\n",
    "        for target in tuning_targets:\n",
    "            _results[target] = ([], [], [], [])\n",
    "            for seed in range(n_seeds):\n",
    "                stepsize, data = _data[(problem, proposal, target, seed)]\n",
    "                _results[target][0].append(stepsize)\n",
    "                _results[target][1].append(data[:,1])\n",
    "                _results[target][2].append(data[:,2])\n",
    "                idx = np.where(np.sum(data[:,3:], axis=1) != 0)\n",
    "                _results[target][3].append(data[idx,3:][0])\n",
    "                \n",
    "        results[(problem, proposal)] = _results\n",
    "    \n",
    "with open(\"data/pure_tuning_data\", \"wb\") as fhandle:\n",
    "    dill.dump(results, fhandle)"
   ]
  },
  {
   "cell_type": "markdown",
   "id": "12ad22c1-81d0-4cd5-a97e-c78142881ee8",
   "metadata": {},
   "source": [
    "# Validation Priors"
   ]
  },
  {
   "cell_type": "code",
   "execution_count": null,
   "id": "5578bb5a-2f94-4461-a977-2f2250cdd8ea",
   "metadata": {},
   "outputs": [],
   "source": [
    "args, args_idx = get_uniform_args(tuning_problems)\n",
    "\n",
    "with warnings.catch_warnings():\n",
    "    warnings.simplefilter('ignore')\n",
    "    parallel = True\n",
    "    if parallel:\n",
    "        with NestablePool(int(n_parallel/n_chains)) as p:\n",
    "            uniform_arr = p.map(uniform_sampling_single_arg, args)\n",
    "    else:\n",
    "        uniform_arr = []\n",
    "        for arg in args:\n",
    "            uniform_arr.append(uniform_sampling(*arg))\n",
    "\n",
    "prior = {args_idx[i]: _states for i, _states in enumerate(uniform_arr)}\n",
    "\n",
    "with open(\"data/validation_prior\", \"wb\") as fhandle:\n",
    "    dill.dump(prior, fhandle)"
   ]
  },
  {
   "cell_type": "markdown",
   "id": "7c54a9d8-ae1a-45c5-915b-b05d1cf4ebb4",
   "metadata": {},
   "source": [
    "# Validation Posteriors"
   ]
  },
  {
   "cell_type": "code",
   "execution_count": null,
   "id": "21921344-8ca1-4cff-82db-6253902ad8df",
   "metadata": {},
   "outputs": [
    {
     "name": "stdout",
     "output_type": "stream",
     "text": [
      "420\n"
     ]
    }
   ],
   "source": [
    "with open(\"data/validation_prior\", \"rb\") as fhandle:\n",
    "    prior = dill.load(fhandle)\n",
    "\n",
    "with open(\"data/pure_tuning_data\", \"rb\") as fhandle:\n",
    "    results = dill.load(fhandle)\n",
    "\n",
    "args, args_idx = get_validation_args(prior, results)\n",
    "\n",
    "print(len(args))\n",
    "\n",
    "with warnings.catch_warnings():\n",
    "    warnings.simplefilter('ignore')\n",
    "    parallel = True\n",
    "    if parallel:\n",
    "        with NestablePool(int(n_parallel/n_chains)) as p:\n",
    "            posterior_arr = p.map(posterior_sampling_single_arg, args)\n",
    "    else:\n",
    "        posterior_arr = []\n",
    "        for arg in args:\n",
    "            posterior_arr.append(posterior_sampling(*arg))\n",
    "\n",
    "posterior = {args_idx[i]: _states for i, _states in enumerate(posterior_arr)}\n",
    "\n",
    "with open(\"data/validation_posterior\", \"wb\") as fhandle:\n",
    "    dill.dump(posterior, fhandle)"
   ]
  },
  {
   "cell_type": "markdown",
   "id": "a9251b1e-6c60-4217-9d4a-e36fcb11c17a",
   "metadata": {},
   "source": [
    "# Simplicus Sampling"
   ]
  },
  {
   "cell_type": "code",
   "execution_count": null,
   "id": "5f622741-d9c8-4259-b629-add70e8c7ff2",
   "metadata": {},
   "outputs": [],
   "source": [
    "simpl = x3c.X3CModel(\"models/Simplicus.fml\")\n",
    "uniform_problem = hopsy.Problem(simpl.A, simpl.b, None, simpl.initial_point)\n",
    "simpl_problem = hopsy.Problem(simpl.A, simpl.b, simpl, simpl.initial_point)\n",
    "\n",
    "mcs = [hopsy.MarkovChain(uniform_problem, hopsy.UniformCoordinateHitAndRunProposal) for i in range(10)]\n",
    "rngs = [hopsy.RandomNumberGenerator(0, i) for i in range(10)]\n",
    "\n",
    "accrate, prior = hopsy.sample(mcs, rngs, 1000, 1, n_threads=10)"
   ]
  },
  {
   "cell_type": "code",
   "execution_count": null,
   "id": "22af91b6-6f56-4b7a-ad4c-ab0e86e836b1",
   "metadata": {},
   "outputs": [],
   "source": [
    "mcs = [hopsy.MarkovChain(simpl_problem, hopsy.CSmMALAProposal) for i in range(10)]\n",
    "rngs = [hopsy.RandomNumberGenerator(0, i) for i in range(10)]\n",
    "\n",
    "accrate, posterior = hopsy.sample(mcs, rngs, 1000, 10, n_threads=10)"
   ]
  },
  {
   "cell_type": "code",
   "execution_count": null,
   "id": "a750fb87-0585-44ab-be23-665b99339bed",
   "metadata": {},
   "outputs": [],
   "source": [
    "plt.scatter(prior[:,:,0], prior[:,:,1], s=2)\n",
    "plt.scatter(posterior[:,:,0], posterior[:,:,1], s=2)\n",
    "\n",
    "with open(\"data/simplicus\", \"wb\") as fhandle:\n",
    "    dill.dump((simpl.parameter_names, {'Simplicus': prior}, {'Simplicus': posterior}), fhandle)"
   ]
  },
  {
   "cell_type": "code",
   "execution_count": null,
   "id": "1cea10e9-7820-4d6c-b65c-2b4cc9de5642",
   "metadata": {},
   "outputs": [],
   "source": [
    "model = x3c.X3CModel(\"models/Coryne.fml\")\n",
    "hopsy.Problem(model.A, model.b, model)"
   ]
  }
 ],
 "metadata": {
  "kernelspec": {
   "display_name": "Python 3 (ipykernel)",
   "language": "python",
   "name": "python3"
  },
  "language_info": {
   "codemirror_mode": {
    "name": "ipython",
    "version": 3
   },
   "file_extension": ".py",
   "mimetype": "text/x-python",
   "name": "python",
   "nbconvert_exporter": "python",
   "pygments_lexer": "ipython3",
   "version": "3.8.10"
  }
 },
 "nbformat": 4,
 "nbformat_minor": 5
}
