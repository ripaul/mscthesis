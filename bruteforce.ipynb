{
 "cells": [
  {
   "cell_type": "code",
   "execution_count": 2,
   "id": "ce2225d9-edb1-4a4a-a4df-dac02a4b3503",
   "metadata": {},
   "outputs": [],
   "source": [
    "import numpy as np\n",
    "\n",
    "import time\n",
    "\n",
    "import warnings\n",
    "from multiprocessing import Pool\n",
    "\n",
    "import dill\n",
    "from tqdm.notebook import tqdm\n",
    "\n",
    "from copy import deepcopy"
   ]
  },
  {
   "cell_type": "code",
   "execution_count": 3,
   "id": "5149c4a4-ebc8-48ed-822a-43baf2f9058d",
   "metadata": {},
   "outputs": [
    {
     "name": "stderr",
     "output_type": "stream",
     "text": [
      "/usr/local/lib/python3.8/dist-packages/pkg_resources/__init__.py:116: PkgResourcesDeprecationWarning: 0.23ubuntu1 is an invalid version and will not be supported in a future release\n",
      "  warnings.warn(\n"
     ]
    },
    {
     "name": "stdout",
     "output_type": "stream",
     "text": [
      "Scaling...\n",
      " A: min|aij| =  1.000e+00  max|aij| =  1.000e+00  ratio =  1.000e+00\n",
      "Problem data seem to be well scaled\n"
     ]
    }
   ],
   "source": [
    "from experimental_setup import *"
   ]
  },
  {
   "cell_type": "markdown",
   "id": "b67e458d-fdd0-4c5c-ad35-606e9ef95ae1",
   "metadata": {
    "tags": []
   },
   "source": [
    "# Uniform sampling"
   ]
  },
  {
   "cell_type": "code",
   "execution_count": 3,
   "id": "f52e9373-5e0d-4f97-9a41-437ff988428e",
   "metadata": {},
   "outputs": [],
   "source": [
    "args, args_idx = get_uniform_args()\n",
    "\n",
    "with warnings.catch_warnings():\n",
    "    warnings.simplefilter('ignore')\n",
    "    parallel = True\n",
    "    if parallel:\n",
    "        with Pool(n_parallel) as p:\n",
    "            uniform_arr = p.starmap(uniform_sampling, args)\n",
    "    else:\n",
    "        uniform_arr = []\n",
    "        for arg in args:\n",
    "            uniform_arr.append(uniform_sampling(*arg))\n",
    "\n",
    "prior = {args_idx[i]: _states for i, _states in enumerate(uniform_arr)}\n",
    "\n",
    "with open(\"data/prior\", \"wb\") as fhandle:\n",
    "    dill.dump(prior, fhandle)"
   ]
  },
  {
   "cell_type": "markdown",
   "id": "5b8abf91-4ae0-4ea6-abf9-55e3ce0f3964",
   "metadata": {
    "tags": []
   },
   "source": [
    "# Posterior sampling"
   ]
  },
  {
   "cell_type": "code",
   "execution_count": 4,
   "id": "5007f908-35b1-4101-9b27-af6fb1ec8863",
   "metadata": {},
   "outputs": [],
   "source": [
    "with open(\"data/prior\", \"rb\") as fhandle:\n",
    "    prior = dill.load(fhandle)\n",
    "    \n",
    "args, args_idx = get_posterior_args()\n",
    "\n",
    "with warnings.catch_warnings():\n",
    "    warnings.simplefilter('ignore')\n",
    "    parallel = False\n",
    "    if parallel:\n",
    "        with Pool(n_parallel) as p:\n",
    "            posterior_arr = p.starmap(posterior_sampling, args)\n",
    "    else:\n",
    "        posterior_arr = []\n",
    "        for arg in args:\n",
    "            posterior_arr.append(posterior_sampling(*arg))\n",
    "\n",
    "posterior_states = {args_idx[i]: _states for i, _states in enumerate(posterior_arr)}\n",
    "\n",
    "with open(\"data/posterior\", \"wb\") as fhandle:\n",
    "    dill.dump(posterior_states, fhandle)"
   ]
  },
  {
   "cell_type": "markdown",
   "id": "30a09cef-f5e4-4425-904e-860a92c88676",
   "metadata": {},
   "source": [
    "# Bruteforce sampling"
   ]
  },
  {
   "cell_type": "code",
   "execution_count": 5,
   "id": "85cea93b-74c3-41a8-9c82-e10877ac68e1",
   "metadata": {
    "tags": []
   },
   "outputs": [
    {
     "name": "stdout",
     "output_type": "stream",
     "text": [
      "10565\n"
     ]
    }
   ],
   "source": [
    "with open(\"data/prior\", \"rb\") as fhandle:\n",
    "    prior = dill.load(fhandle)\n",
    "    \n",
    "args, args_idx = get_bruteforce_args(prior)\n",
    "print(len(args))"
   ]
  },
  {
   "cell_type": "code",
   "execution_count": null,
   "id": "f3cec14b-384d-4826-9dc8-c6167a8825a0",
   "metadata": {
    "tags": []
   },
   "outputs": [
    {
     "name": "stdout",
     "output_type": "stream",
     "text": [
      "10565\n"
     ]
    }
   ],
   "source": [
    "with warnings.catch_warnings():\n",
    "    warnings.simplefilter('ignore')\n",
    "    parallel = True\n",
    "    if parallel:\n",
    "        with Pool(n_parallel) as p:\n",
    "            bruteforce_arr = p.starmap(bruteforce_sampling, args)\n",
    "    else:\n",
    "        bruteforce_arr = []\n",
    "        for arg in args:\n",
    "            bruteforce_arr.append(bruteforce_sampling(*arg))\n",
    "\n",
    "    with open(\"data/bruteforce_raw\", \"wb\") as fhandle:\n",
    "        dill.dump(bruteforce_arr, fhandle)\n",
    "    #    !git add data/* && git commit -m \"bruteforce run\""
   ]
  },
  {
   "cell_type": "markdown",
   "id": "918fa1ea-dbc8-4602-aaa6-b263b05059ae",
   "metadata": {},
   "source": [
    "## Data aggregation"
   ]
  },
  {
   "cell_type": "code",
   "execution_count": 6,
   "id": "db0a8688-86b0-4777-8028-17f663a18573",
   "metadata": {},
   "outputs": [],
   "source": [
    "with open(\"data/bruteforce_raw\", \"rb\") as fhandle:\n",
    "    data_arr = dill.load(fhandle)\n",
    "    \n",
    "results = {(problem, proposal): None for problem in problems for proposal in proposals}\n",
    "\n",
    "for i, (problem, proposal, j, seed) in enumerate(args_idx):\n",
    "    shape = (len(targets), len(stepsize_grids[(problem, proposal)]), n_seeds, n_chains)\n",
    "    if results[(problem, proposal)] is None:\n",
    "        results[(problem, proposal)] = np.zeros(shape)\n",
    "\n",
    "    results[(problem, proposal)][:, j, seed] = np.array(data_arr[i])\n",
    "        \n",
    "with open(\"data/bruteforce_data\", \"wb\") as fhandle:\n",
    "    dill.dump(results, fhandle)\n",
    "#    !git add data/*_time_gps && git commit -m \"added time-per-sample posterior gps\""
   ]
  },
  {
   "cell_type": "code",
   "execution_count": 7,
   "id": "b1880ae5-0a92-48dc-b1c3-14ba5e92b2c3",
   "metadata": {},
   "outputs": [],
   "source": [
    "def kernel(x, y, l = 1, sigma = 1):\n",
    "    sqdist = np.sum(x**2, 1).reshape(-1, 1) + np.sum(y**2, 1) - 2 * np.dot(x, y.T)\n",
    "    return sigma**2 * np.exp(-0.5 / l**2 * sqdist)\n",
    "  \n",
    "def posterior(x, x_obs, y_obs, l = 1, sigma_f = 1, sigma_y = 0, prior_mu = 0):\n",
    "    K = kernel(x_obs, x_obs, l, sigma_f) + sigma_y * np.eye(len(x_obs))\n",
    "    K_s = kernel(x_obs, x, l, sigma_f)\n",
    "    K_ss = kernel(x, x, l, sigma_f)\n",
    "    K_inv = np.linalg.inv(K)\n",
    "\n",
    "    mu = prior_mu + K_s.T.dot(K_inv).dot(y_obs - prior_mu)\n",
    "    cov = K_ss - K_s.T.dot(K_inv).dot(K_s) #+ sigma_y * np.eye(len(x))\n",
    "\n",
    "    return mu, cov\n",
    "\n",
    "gps = dict()\n",
    "\n",
    "N = 200\n",
    "\n",
    "shape = (N, 2)\n",
    "gps = {(problem, proposal): np.zeros(shape) for problem in problems for proposal in proposals}\n",
    "        \n",
    "for i, problem in enumerate(problems):\n",
    "    for j, proposal in enumerate(proposals):\n",
    "        target = \"t\"\n",
    "        target_idx = list(targets).index(target)\n",
    "        \n",
    "        stepsize_grid = stepsize_grids[(problem, proposal)]\n",
    "\n",
    "        y = results[(problem, proposal)][target_idx].reshape(len(stepsize_grid), -1)\n",
    "        y_mean = np.mean(y, axis=-1) \n",
    "\n",
    "        y /= np.max(y_mean)\n",
    "        y_mean /= np.max(y_mean)\n",
    "\n",
    "        X, Y = np.array([np.log10(stepsize_grid)]*y.shape[-1]).T.flatten().reshape(-1, 1), y.flatten().reshape(-1, 1)\n",
    "\n",
    "        _x = np.linspace(-5, 3, N).reshape(-1, 1)\n",
    "        mu, cov = posterior(_x, X, Y, sigma_y=.1, l=2)\n",
    "        gps[(problem, proposal)][:, 0] = mu.flatten()\n",
    "        gps[(problem, proposal)][:, 1] = np.sqrt(np.diag(cov)).flatten()\n",
    "\n",
    "with open(\"data/time_gps\", \"wb\") as fhandle:\n",
    "    dill.dump(gps, fhandle)"
   ]
  },
  {
   "cell_type": "markdown",
   "id": "606f7a33-b302-48ef-b604-480ccbc2cde4",
   "metadata": {},
   "source": [
    "# Tuning"
   ]
  },
  {
   "cell_type": "code",
   "execution_count": null,
   "id": "435272d5-31bb-4572-aa7f-4485547bfdcc",
   "metadata": {},
   "outputs": [],
   "source": [
    "args, args_idx = get_tuning_args()\n",
    "print(len(args))\n",
    "\n",
    "with warnings.catch_warnings():\n",
    "    warnings.simplefilter('ignore')\n",
    "    parallel = True\n",
    "    if parallel:\n",
    "        with Pool(n_parallel) as p:\n",
    "            tuning_arr = p.starmap(tuning, args)\n",
    "    else:\n",
    "        tuning_arr = []\n",
    "        for arg in args:\n",
    "            tuning_arr.append(tuning(*arg))\n",
    "\n",
    "    with open(\"data/tuning_raw\", \"wb\") as fhandle:\n",
    "        dill.dump(tuning_arr, fhandle)\n",
    "    #    !git add data/* && git commit -m \"bruteforce run\""
   ]
  },
  {
   "cell_type": "code",
   "execution_count": null,
   "id": "b3127cd4-9592-4720-9817-6df35136de92",
   "metadata": {},
   "outputs": [],
   "source": []
  }
 ],
 "metadata": {
  "kernelspec": {
   "display_name": "Python 3 (ipykernel)",
   "language": "python",
   "name": "python3"
  },
  "language_info": {
   "codemirror_mode": {
    "name": "ipython",
    "version": 3
   },
   "file_extension": ".py",
   "mimetype": "text/x-python",
   "name": "python",
   "nbconvert_exporter": "python",
   "pygments_lexer": "ipython3",
   "version": "3.8.10"
  }
 },
 "nbformat": 4,
 "nbformat_minor": 5
}
